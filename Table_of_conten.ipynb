{
 "cells": [
  {
   "cell_type": "markdown",
   "metadata": {},
   "source": [
    "# Machine Learning medicine: A complete overview"
   ]
  },
  {
   "cell_type": "markdown",
   "metadata": {},
   "source": [
    "<head>\n",
    "<style>\n",
    "ul {\n",
    "  list-style-type: none;\n",
    "}\n",
    "</style>\n",
    "</head>\n",
    "<body>\n",
    "<div>\n",
    "  <strong>Table of Content:</strong>\n",
    "  <!-- First Chapter -->\n",
    "  <ul><li><a href = \"Chapter 1/01_Cluster and Classification Models.ipynb\">\n",
    "            1. Cluster and Classification Models\n",
    "        </a>  \n",
    "  <ul><li><a href = \"Chapter 1/01_Cluster and Classification Models.ipynb\">\n",
    "            1.1 Hierarchical Clustering and K-Means Clustering to Identify Subgroups in Surveys\n",
    "          </a>\n",
    "      <li><a href = \"12-Density-Based Clustering to Identify Outlier Groups in Otherwise Homogeneous Data\">\n",
    "                1.2 Density-Based Clustering to Identify Outlier Groups in Otherwise Homogeneous Data\n",
    "          </a>\n",
    "      </li>\n",
    "      <li><a href = \"13-Two Step Clustering to Identify Subgroups and Predict Subgroup Memberships in Individual Future Patients\">\n",
    "                1.3 Two Step Clustering to Identify Subgroups and Predict Subgroup Memberships in Individual Future Patients\n",
    "          </a>\n",
    "      </li>\n",
    "      <li><a href = \"14-Nearest Neighbors for Classifying New Medicines\">\n",
    "                1.4 Nearest Neighbors for Classifying New Medicines\n",
    "          </a>\n",
    "      </li>\n",
    "      <li><a href = \"15-Predicting High-Risk-Bin Memberships\">\n",
    "                1.5 Predicting High-Risk-Bin Memberships\n",
    "          </a>\n",
    "      </li>      \n",
    "  </ul>\n",
    "  <!-- Second Chapter -->\n",
    "      <li><a href = \"2-(Log) Linear Models\">\n",
    "            2. (Log) Linear Models\n",
    "        </a>  \n",
    "  <ul><li><a href = \"21-Linear, Logistic, and Cox Regression for Outcome Prediction with Unpaired Data\">\n",
    "            2.1 Linear, Logistic, and Cox Regression for Outcome Prediction with Unpaired Data\n",
    "          </a>\n",
    "      <li><a href = \"22-Generalized Linear Models for Outcome Prediction with Paired Data\">\n",
    "                2.2 Generalized Linear Models for Outcome Prediction with Paired Data\n",
    "          </a>\n",
    "      </li>\n",
    "      <li><a href = \"23-Generalized Linear Models Event-Rates\">\n",
    "                2.3 Generalized Linear Models Event-Rates\n",
    "          </a>\n",
    "      </li>      \n",
    "  </ul>\n",
    "  <!-- Third Chapter -->\n",
    "      <li><a href = \"1-Cluster and Classification Models\">\n",
    "            1. Cluster and Classification Models\n",
    "        </a>  \n",
    "  <ul><li><a href = \"11-Hierarchical Clustering and K-Means Clustering to Identify Subgroups in Surveys\">\n",
    "            1.1 Hierarchical Clustering and K-Means Clustering to Identify Subgroups in Surveys\n",
    "          </a>\n",
    "      <li><a href = \"12-Density-Based Clustering to Identify Outlier Groups in Otherwise Homogeneous Data\">\n",
    "                1.2 Density-Based Clustering to Identify Outlier Groups in Otherwise Homogeneous Data\n",
    "          </a>\n",
    "      </li>\n",
    "      <li><a href = \"13-Two Step Clustering to Identify Subgroups and Predict Subgroup Memberships in Individual Future Patients\">\n",
    "                1.3 Two Step Clustering to Identify Subgroups and Predict Subgroup Memberships in Individual Future Patients\n",
    "          </a>\n",
    "      </li>      \n",
    "  </ul>\n",
    "  <!-- .... -->\n",
    "  </ul>  \n",
    "</div>\n",
    "</body>"
   ]
  },
  {
   "cell_type": "markdown",
   "metadata": {},
   "source": []
  }
 ],
 "metadata": {
  "language_info": {
   "name": "python"
  }
 },
 "nbformat": 4,
 "nbformat_minor": 2
}
