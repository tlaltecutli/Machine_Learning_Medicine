{
 "cells": [
  {
   "cell_type": "markdown",
   "metadata": {},
   "source": [
    "# Machine Lerning en medicina: Una visión general completa"
   ]
  },
  {
   "cell_type": "markdown",
   "metadata": {},
   "source": [
    "<head>\n",
    "<style>\n",
    "ul {\n",
    "  list-style-type: none;\n",
    "}\n",
    "</style>\n",
    "</head>\n",
    "<body>\n",
    "<div>\n",
    "  <strong>Table of Content:</strong>\n",
    "  <!-- First Chapter -->\n",
    "  <ul><li><a href = \"1-Cluster and Classification Models\">\n",
    "            1. Cluster and Classification Models\n",
    "        </a>  \n",
    "  <ul><li><a href = \"11-Hierarchical Clustering and K-Means Clustering to Identify Subgroups in Surveys\">\n",
    "            1.1 Hierarchical Clustering and K-Means Clustering to Identify Subgroups in Surveys\n",
    "          </a>\n",
    "      <li><a href = \"12-Density-Based Clustering to Identify Outlier Groups in Otherwise Homogeneous Data\">\n",
    "                1.2 Density-Based Clustering to Identify Outlier Groups in Otherwise Homogeneous Data\n",
    "          </a>\n",
    "      </li>\n",
    "      <li><a href = \"13-Two Step Clustering to Identify Subgroups and Predict Subgroup Memberships in Individual Future Patients\">\n",
    "                1.3 Two Step Clustering to Identify Subgroups and Predict Subgroup Memberships in Individual Future Patients\n",
    "          </a>\n",
    "      </li>      \n",
    "  </ul>\n",
    "  <!-- Second Chapter -->\n",
    "      <li><a href = \"1-Cluster and Classification Models\">\n",
    "            1. Cluster and Classification Models\n",
    "        </a>  \n",
    "  <ul><li><a href = \"11-Hierarchical Clustering and K-Means Clustering to Identify Subgroups in Surveys\">\n",
    "            1.1 Hierarchical Clustering and K-Means Clustering to Identify Subgroups in Surveys\n",
    "          </a>\n",
    "      <li><a href = \"12-Density-Based Clustering to Identify Outlier Groups in Otherwise Homogeneous Data\">\n",
    "                1.2 Density-Based Clustering to Identify Outlier Groups in Otherwise Homogeneous Data\n",
    "          </a>\n",
    "      </li>\n",
    "      <li><a href = \"13-Two Step Clustering to Identify Subgroups and Predict Subgroup Memberships in Individual Future Patients\">\n",
    "                1.3 Two Step Clustering to Identify Subgroups and Predict Subgroup Memberships in Individual Future Patients\n",
    "          </a>\n",
    "      </li>      \n",
    "  </ul>\n",
    "  <!-- Third Chapter -->\n",
    "      <li><a href = \"1-Cluster and Classification Models\">\n",
    "            1. Cluster and Classification Models\n",
    "        </a>  \n",
    "  <ul><li><a href = \"11-Hierarchical Clustering and K-Means Clustering to Identify Subgroups in Surveys\">\n",
    "            1.1 Hierarchical Clustering and K-Means Clustering to Identify Subgroups in Surveys\n",
    "          </a>\n",
    "      <li><a href = \"12-Density-Based Clustering to Identify Outlier Groups in Otherwise Homogeneous Data\">\n",
    "                1.2 Density-Based Clustering to Identify Outlier Groups in Otherwise Homogeneous Data\n",
    "          </a>\n",
    "      </li>\n",
    "      <li><a href = \"13-Two Step Clustering to Identify Subgroups and Predict Subgroup Memberships in Individual Future Patients\">\n",
    "                1.3 Two Step Clustering to Identify Subgroups and Predict Subgroup Memberships in Individual Future Patients\n",
    "          </a>\n",
    "      </li>      \n",
    "  </ul>\n",
    "  <!-- .... -->\n",
    "  </ul>  \n",
    "</div>\n",
    "</body>"
   ]
  },
  {
   "cell_type": "markdown",
   "metadata": {},
   "source": []
  }
 ],
 "metadata": {
  "language_info": {
   "name": "python"
  }
 },
 "nbformat": 4,
 "nbformat_minor": 2
}
